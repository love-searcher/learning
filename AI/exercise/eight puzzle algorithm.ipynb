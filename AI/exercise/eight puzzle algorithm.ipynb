{
 "cells": [
  {
   "cell_type": "markdown",
   "metadata": {
    "collapsed": false
   },
   "source": [
    "# A* algorithm for 8 puzzle\n",
    "## Heuristic function\n",
    "h(s) = the sum of the distance between the block to destination\n",
    "g(s) = the cost\n",
    "f(s) = h(s) + g(s)\n",
    "\n",
    "first we need to choose a data structure\n",
    "    1.the actions of the choice\n",
    "    2.the cost of this state\n",
    "secondly, it's still the tree-search algorithm\n",
    "    if the size of the queue is zero, return false\n",
    "    the selection from the queue is always the actions with min(f(s))\n",
    "    each time the successors are added into the queue, it shall be ordered\n",
    "    \n",
    "    when the min(g(s)) >= the cost to reach the goal state, we stop"
   ]
  },
  {
   "cell_type": "code",
   "execution_count": null,
   "metadata": {
    "collapsed": true
   },
   "outputs": [],
   "source": []
  }
 ],
 "metadata": {
  "anaconda-cloud": {},
  "kernelspec": {
   "display_name": "Python [conda root]",
   "language": "python",
   "name": "conda-root-py"
  },
  "language_info": {
   "codemirror_mode": {
    "name": "ipython",
    "version": 3
   },
   "file_extension": ".py",
   "mimetype": "text/x-python",
   "name": "python",
   "nbconvert_exporter": "python",
   "pygments_lexer": "ipython3",
   "version": "3.5.2"
  }
 },
 "nbformat": 4,
 "nbformat_minor": 1
}
