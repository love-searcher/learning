{
 "cells": [
  {
   "cell_type": "code",
   "execution_count": 47,
   "metadata": {
    "collapsed": true
   },
   "outputs": [],
   "source": [
    "fr = open('semeval.txt')\n",
    "lines = fr.readlines()"
   ]
  },
  {
   "cell_type": "code",
   "execution_count": 48,
   "metadata": {
    "collapsed": false
   },
   "outputs": [
    {
     "name": "stdout",
     "output_type": "stream",
     "text": [
      "emm\n"
     ]
    },
    {
     "data": {
      "text/plain": [
       "12"
      ]
     },
     "execution_count": 48,
     "metadata": {},
     "output_type": "execute_result"
    }
   ],
   "source": [
    "seg = lines[0].split('\\t')\n",
    "seg[2].split()\n",
    "word = {}\n",
    "word['11'] = 12\n",
    "if ('11' in word ):\n",
    "    print('emm')\n",
    "word['11']"
   ]
  },
  {
   "cell_type": "code",
   "execution_count": 64,
   "metadata": {
    "collapsed": false
   },
   "outputs": [
    {
     "data": {
      "text/plain": [
       "\"\\ndef get_word_table( lines ):\\n    word_table = {}\\n    for line in lines:\\n        seg = line.split('\\t')\\n        flag = 1\\n        for ele in seg[2].split():\\n            if ele in word_table and flag :\\n                word_table[ele][1] += 1 #first is the cixu, second is the num\\n                flag = 0 # 1 for each record\\n            else :\\n                if ( ele == 'chang' or ele == 'climat' ):\\n                    print(len(word_table))\\n                cixu = len(word_table)\\n                word_table[ele] = [cixu , 1]\\n                if ( ele == 'chang' ):\\n                    print( word_table[ele] , cixu )\\n                flag = 0\\n    return word_table\\n\""
      ]
     },
     "execution_count": 64,
     "metadata": {},
     "output_type": "execute_result"
    }
   ],
   "source": [
    "#pre: get a list of words with index for cixu\n",
    "#没有用字典或其它搜索算法，时间复杂度会为 KLN\n",
    "def get_word_table( lines ):\n",
    "    word_table = []\n",
    "    for line in lines:\n",
    "        txt = line.split('\\t')\n",
    "        words = txt[2].split()\n",
    "        for word in words :\n",
    "            flag = 0 # judge if it's in word\n",
    "            for i in range(len(word_table)):\n",
    "                if word_table[i] == word:\n",
    "                    flag = 1\n",
    "                    break\n",
    "            if not flag :\n",
    "                word_table.append( word )\n",
    "    return word_table\n",
    "                \n",
    "'''\n",
    "def get_word_table( lines ):\n",
    "    word_table = {}\n",
    "    for line in lines:\n",
    "        seg = line.split('\\t')\n",
    "        flag = 1\n",
    "        for ele in seg[2].split():\n",
    "            if ele in word_table and flag :\n",
    "                word_table[ele][1] += 1 #first is the cixu, second is the num\n",
    "                flag = 0 # 1 for each record\n",
    "            else :\n",
    "                if ( ele == 'chang' or ele == 'climat' ):\n",
    "                    print(len(word_table))\n",
    "                cixu = len(word_table)\n",
    "                word_table[ele] = [cixu , 1]\n",
    "                if ( ele == 'chang' ):\n",
    "                    print( word_table[ele] , cixu )\n",
    "                flag = 0\n",
    "    return word_table\n",
    "'''"
   ]
  },
  {
   "cell_type": "code",
   "execution_count": 71,
   "metadata": {
    "collapsed": false
   },
   "outputs": [],
   "source": [
    "\n",
    "'''\n",
    "#pre: the txt lines and the word_table( word_shunxu , word_num )\n",
    "def get_TF( lines , word_table ):\n",
    "    TF = []\n",
    "    #it should be a list of values.\n",
    "    i = 0\n",
    "    for line in lines:\n",
    "        seg = line.split('\\t')\n",
    "        words = seg[2].split()\n",
    "        record = [0]*len( word_table )\n",
    "        i += 1\n",
    "        for word in words:\n",
    "            index = word_table[word][0]\n",
    "            try:\n",
    "                record[index] += 1/len(words)\n",
    "            except:\n",
    "                print(i)\n",
    "                print(word ,'index',  index , 'len' , len(record) , len(word_table) )\n",
    "        TF.append( record )\n",
    "    return TF\n",
    "'''\n",
    "#the word_table is a list of word in order\n",
    "#post: the term frequency for each record\n",
    "def get_TF( lines , word_table ):\n",
    "    TF = []\n",
    "    for line in lines :\n",
    "        line_TF = get_line_TF( line , word_table)\n",
    "        TF.append( line_TF[:] )\n",
    "    return TF\n",
    "def get_line_TF( line , word_table ):\n",
    "    line_TF = [0]*len(word_table)\n",
    "    records = line.split('\\t')\n",
    "    words = records[2].split()\n",
    "    for word in words :\n",
    "        for i in range(len(word_table)):\n",
    "            if (word == word_table[i]):\n",
    "                line_TF[i] += 1/len(words)\n",
    "    return line_TF"
   ]
  },
  {
   "cell_type": "code",
   "execution_count": 72,
   "metadata": {
    "collapsed": false
   },
   "outputs": [],
   "source": [
    "word_table = get_word_table( lines )\n",
    "TF = get_TF( lines , word_table )"
   ]
  },
  {
   "cell_type": "code",
   "execution_count": 87,
   "metadata": {
    "collapsed": false
   },
   "outputs": [],
   "source": [
    "#get IDF\n",
    "import math\n",
    "\n",
    "def get_IDF( TF ):\n",
    "    IDF = []\n",
    "    for i in range(len(TF[0])):\n",
    "        count = doc_num_with_word( TF , i )\n",
    "        IDF.append( math.log(len(TF)/(1+count)) )\n",
    "    return IDF\n",
    "def doc_num_with_word( TF , col ):\n",
    "    num = 0\n",
    "    for i in range( len(TF) ):\n",
    "        if TF[i][col] is not 0 :\n",
    "            num += 1\n",
    "    return num"
   ]
  },
  {
   "cell_type": "code",
   "execution_count": 88,
   "metadata": {
    "collapsed": false
   },
   "outputs": [],
   "source": [
    "IDF = get_IDF(TF)"
   ]
  },
  {
   "cell_type": "code",
   "execution_count": 92,
   "metadata": {
    "collapsed": false
   },
   "outputs": [],
   "source": [
    "def get_TF_IDF( TF , IDF ):\n",
    "    TF_IDF = []\n",
    "    for i in range( len(TF) ):\n",
    "        line_TF_IDF = get_line_TF_IDF( TF[i] , IDF )\n",
    "        TF_IDF.append( line_TF_IDF[:] )\n",
    "    return TF_IDF\n",
    "def get_line_TF_IDF( line_TF , IDF ):\n",
    "    line_TF_IDF = []\n",
    "    for i in range(len(IDF)) :\n",
    "        line_TF_IDF.append( line_TF[i]*IDF[i] )\n",
    "    return line_TF_IDF"
   ]
  },
  {
   "cell_type": "code",
   "execution_count": 98,
   "metadata": {
    "collapsed": false
   },
   "outputs": [],
   "source": [
    "TF_IDF = get_TF_IDF( TF ,IDF )\n",
    "fw = open('16337129_lizhiyuan_TFIDF.txt' , 'w')\n",
    "for i in range(len( TF_IDF ) ):\n",
    "    for j in range( len(TF_IDF[i])) :\n",
    "        fw.write( str(TF_IDF[i][j])+' ' )\n",
    "    fw.write('\\n')"
   ]
  },
  {
   "cell_type": "code",
   "execution_count": null,
   "metadata": {
    "collapsed": true
   },
   "outputs": [],
   "source": []
  }
 ],
 "metadata": {
  "kernelspec": {
   "display_name": "Python [conda root]",
   "language": "python",
   "name": "conda-root-py"
  },
  "language_info": {
   "codemirror_mode": {
    "name": "ipython",
    "version": 3
   },
   "file_extension": ".py",
   "mimetype": "text/x-python",
   "name": "python",
   "nbconvert_exporter": "python",
   "pygments_lexer": "ipython3",
   "version": "3.5.2"
  }
 },
 "nbformat": 4,
 "nbformat_minor": 1
}
